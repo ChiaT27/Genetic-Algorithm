{
 "cells": [
  {
   "cell_type": "markdown",
   "metadata": {},
   "source": [
    "# Prelimineries for A Toy Travelling Salesman Problem"
   ]
  },
  {
   "cell_type": "markdown",
   "metadata": {},
   "source": [
    "# 1. Randomly generate a sequence of routes "
   ]
  },
  {
   "cell_type": "code",
   "execution_count": 1,
   "metadata": {},
   "outputs": [],
   "source": [
    "#------------------------------------------------------------------------------+\n",
    "#   CHIA E TUNGOM\n",
    "#   Genetic Algorithm for TSA \n",
    "#   March, 2020\n",
    "#------------------------------------------------------------------------------+"
   ]
  },
  {
   "cell_type": "code",
   "execution_count": 2,
   "metadata": {},
   "outputs": [],
   "source": [
    "# Randomly generate a sequence of routes \n",
    "import random\n",
    "import numpy as np\n",
    "\n",
    "def Initialize(pop, dim):\n",
    "    \n",
    "    population = []\n",
    "    i = 0\n",
    "    \n",
    "    while len(population) < pop and i < 100:       # i helps to terminate while loops if population keeps repeating:\n",
    "        chromosome = []\n",
    "        \n",
    "        while len(chromosome) < dim:\n",
    "            a = int(random.uniform(0,dim))\n",
    "            \n",
    "            if a not in chromosome:\n",
    "                chromosome.append(a)\n",
    "                \n",
    "        # dont allow repetition of same chromosome        \n",
    "        if chromosome in population:\n",
    "            print(\"IGNORING......: \", chromosome)\n",
    "            i += 1\n",
    "        else:\n",
    "            population.append(chromosome)\n",
    "        \n",
    "        \n",
    "    return population"
   ]
  },
  {
   "cell_type": "code",
   "execution_count": 3,
   "metadata": {},
   "outputs": [
    {
     "data": {
      "text/plain": [
       "[[7, 4, 3, 8, 0, 5, 2, 1, 9, 6],\n",
       " [0, 6, 8, 7, 9, 2, 5, 4, 3, 1],\n",
       " [4, 1, 7, 6, 5, 3, 8, 9, 2, 0],\n",
       " [9, 6, 5, 2, 7, 3, 1, 8, 4, 0],\n",
       " [2, 9, 0, 7, 5, 6, 3, 1, 8, 4],\n",
       " [3, 6, 2, 5, 9, 8, 1, 4, 0, 7],\n",
       " [3, 1, 2, 8, 0, 4, 5, 6, 7, 9],\n",
       " [1, 7, 4, 6, 5, 8, 9, 2, 3, 0],\n",
       " [6, 9, 5, 3, 7, 2, 4, 8, 0, 1],\n",
       " [9, 3, 8, 0, 1, 4, 2, 5, 6, 7],\n",
       " [4, 0, 3, 9, 2, 6, 1, 8, 7, 5],\n",
       " [2, 7, 8, 1, 6, 3, 5, 9, 0, 4],\n",
       " [7, 5, 4, 2, 8, 6, 0, 3, 1, 9],\n",
       " [3, 0, 7, 4, 5, 9, 8, 6, 2, 1],\n",
       " [8, 0, 1, 4, 9, 5, 3, 2, 7, 6],\n",
       " [4, 9, 2, 1, 8, 7, 3, 5, 6, 0],\n",
       " [1, 5, 9, 0, 8, 4, 2, 3, 6, 7],\n",
       " [6, 5, 1, 3, 7, 8, 0, 2, 4, 9],\n",
       " [6, 7, 4, 2, 1, 3, 8, 9, 5, 0],\n",
       " [9, 8, 3, 4, 6, 2, 0, 7, 5, 1]]"
      ]
     },
     "execution_count": 3,
     "metadata": {},
     "output_type": "execute_result"
    }
   ],
   "source": [
    "pop = 20\n",
    "dim = 10\n",
    "Initialize(pop,dim)"
   ]
  },
  {
   "cell_type": "markdown",
   "metadata": {},
   "source": [
    "# 2. Define a cost matrix "
   ]
  },
  {
   "cell_type": "code",
   "execution_count": 4,
   "metadata": {},
   "outputs": [
    {
     "data": {
      "text/plain": [
       "array([[ 0.        , 96.92091412, 68.32144067, 13.76733698, 97.22726366,\n",
       "        24.52113743, 26.74488121, 69.98425647, 59.88248736, 39.37938739],\n",
       "       [96.92091412,  0.        , 47.17796971, 74.55727356, 83.0858193 ,\n",
       "        38.24265793, 31.54134736, 61.45719555, 82.19547277,  4.93852239],\n",
       "       [68.32144067, 47.17796971,  0.        , 83.42161552, 73.41519739,\n",
       "        24.94733404, 39.39029796, 75.98774636,  7.57144451, 88.97888659],\n",
       "       [13.76733698, 74.55727356, 83.42161552,  0.        , 37.16530148,\n",
       "        26.33592523, 79.10990382,  7.80553975, 87.62750494, 59.95331851],\n",
       "       [97.22726366, 83.0858193 , 73.41519739, 37.16530148,  0.        ,\n",
       "        53.31850062, 61.63197045,  8.53000279, 51.21815103, 40.60554735],\n",
       "       [24.52113743, 38.24265793, 24.94733404, 26.33592523, 53.31850062,\n",
       "         0.        , 70.57608374, 89.70109319, 17.61237391, 72.30239417],\n",
       "       [26.74488121, 31.54134736, 39.39029796, 79.10990382, 61.63197045,\n",
       "        70.57608374,  0.        , 41.70384819, 77.4511101 , 99.84774783],\n",
       "       [69.98425647, 61.45719555, 75.98774636,  7.80553975,  8.53000279,\n",
       "        89.70109319, 41.70384819,  0.        , 80.29583685, 52.73855261],\n",
       "       [59.88248736, 82.19547277,  7.57144451, 87.62750494, 51.21815103,\n",
       "        17.61237391, 77.4511101 , 80.29583685,  0.        , 24.69102422],\n",
       "       [39.37938739,  4.93852239, 88.97888659, 59.95331851, 40.60554735,\n",
       "        72.30239417, 99.84774783, 52.73855261, 24.69102422,  0.        ]])"
      ]
     },
     "execution_count": 4,
     "metadata": {},
     "output_type": "execute_result"
    }
   ],
   "source": [
    "# randomly define cost matrix. The cost matris is a square symmetric matrix with dimension equal to length of chromosome\n",
    "\n",
    "def Cmatrix(dim):\n",
    "    \n",
    "    b = [(i, str(i)) for i in range(dim)]   \n",
    "    matrix = []\n",
    "    \n",
    "    for i,j in b:\n",
    "        if i == 0:\n",
    "            j = []\n",
    "            j.append(0)\n",
    "            matrix.append(j)\n",
    "        else:\n",
    "            j=[]\n",
    "            for k in range(i+1):\n",
    "                if k == i:\n",
    "                    j.append(0)\n",
    "                else:\n",
    "                    j.append(random.uniform(3,100))\n",
    "            matrix.append(j)\n",
    "            \n",
    "    M = matrix        \n",
    "    for i in range(len(M)):\n",
    "        \n",
    "        for j in range(1,len(M)-len(M[i])+1):\n",
    "            M[i].append(M[i+j][i]) \n",
    "            \n",
    "    return M\n",
    "\n",
    "np.array(Cmatrix(dim))"
   ]
  },
  {
   "cell_type": "markdown",
   "metadata": {},
   "source": [
    "# 3. Calculate the Cost of Each route"
   ]
  },
  {
   "cell_type": "code",
   "execution_count": 5,
   "metadata": {},
   "outputs": [
    {
     "data": {
      "text/plain": [
       "array([416.67917565, 557.60439795, 580.46113458, 361.15435558,\n",
       "       395.31192521, 449.77158965, 566.36292273, 504.8953447 ,\n",
       "       598.33483011, 444.08681398, 511.62000422, 523.84699843,\n",
       "       598.34835981, 434.11644146, 458.22431671, 535.62433622,\n",
       "       581.49790876, 516.06899183, 636.90737262, 588.82204136])"
      ]
     },
     "execution_count": 5,
     "metadata": {},
     "output_type": "execute_result"
    }
   ],
   "source": [
    "# calculate cost of each route\n",
    "\n",
    "def Cost(Pop, Cmatrix):\n",
    "    Cvector = []\n",
    "    \n",
    "    for i in range(len(Pop)):\n",
    "        route = Pop[i]\n",
    "        cost = 0\n",
    "        \n",
    "        for j in range(len(route)-1):\n",
    "            cost += Cmatrix[route[j]][route[j+1]]\n",
    "        cost += Cmatrix[route[0]][route[len(route)-1]]   \n",
    "        Cvector.append(cost)\n",
    "        \n",
    "    return Cvector\n",
    "\n",
    "P = Initialize(pop,dim)\n",
    "CM = Cmatrix(dim)\n",
    "CV = Cost(P, CM)\n",
    "\n",
    "np.array(CV)"
   ]
  },
  {
   "cell_type": "markdown",
   "metadata": {},
   "source": [
    "# 4. Sort Chromosomes from Best to Worst"
   ]
  },
  {
   "cell_type": "code",
   "execution_count": 6,
   "metadata": {},
   "outputs": [
    {
     "data": {
      "text/plain": [
       "[[0, 5, 4, 8, 7, 6, 1, 9, 3, 2],\n",
       " [8, 3, 5, 2, 0, 4, 6, 9, 7, 1],\n",
       " [9, 5, 3, 2, 8, 1, 7, 0, 4, 6],\n",
       " [0, 7, 1, 9, 6, 8, 3, 2, 4, 5],\n",
       " [9, 2, 8, 7, 1, 3, 4, 0, 5, 6],\n",
       " [5, 8, 3, 2, 7, 9, 4, 1, 6, 0],\n",
       " [1, 8, 6, 7, 3, 9, 5, 2, 0, 4],\n",
       " [6, 3, 2, 0, 7, 8, 5, 4, 1, 9],\n",
       " [3, 9, 8, 4, 7, 1, 5, 2, 6, 0],\n",
       " [3, 8, 5, 4, 0, 6, 9, 2, 1, 7],\n",
       " [3, 1, 8, 6, 9, 2, 0, 4, 7, 5],\n",
       " [5, 0, 7, 3, 6, 8, 4, 9, 1, 2],\n",
       " [6, 9, 0, 3, 8, 5, 4, 7, 1, 2],\n",
       " [3, 7, 1, 2, 0, 6, 5, 8, 9, 4],\n",
       " [2, 1, 7, 0, 5, 9, 8, 3, 4, 6],\n",
       " [2, 6, 5, 1, 0, 8, 9, 7, 4, 3],\n",
       " [2, 5, 8, 4, 6, 1, 3, 9, 0, 7],\n",
       " [8, 4, 3, 0, 7, 6, 2, 1, 5, 9],\n",
       " [4, 3, 7, 0, 2, 6, 5, 8, 9, 1],\n",
       " [7, 0, 4, 6, 2, 9, 8, 1, 3, 5]]"
      ]
     },
     "execution_count": 6,
     "metadata": {},
     "output_type": "execute_result"
    }
   ],
   "source": [
    "# Sort Chromosomes from Best to Worst by cost\n",
    "\n",
    "def SortChromosome(Pop, Cmatrix):\n",
    "    cost = Cost(Pop, Cmatrix)\n",
    "    ans = [ x for _,x in sorted(zip(cost, Pop))]\n",
    "    cost = [ _ for _,x in sorted(zip(cost, Pop))]\n",
    "    return ans , cost\n",
    "\n",
    "sP, sC = SortChromosome(P, CM)\n",
    "sP"
   ]
  },
  {
   "cell_type": "markdown",
   "metadata": {},
   "source": [
    "# Fitness \n",
    "1. $ F_1(X'_i) = bb(1-bb)^{i-1}   where i = 1, 2 ... n     bb= uniform(0,1) i is sorted with best = 1 $\n",
    "2. $ F_2(X'_i) = \\frac{n-i+1}{n} where   i = 1, 2 ... n $\n",
    "\n",
    "# Probability\n",
    "$ P_i = \\frac{F(X'_i)}{\\sum_{i=1}^{n}F(X'_i)} $\n",
    "\n",
    "# Rouleete Wheele\n",
    "\n",
    "$ PP_i = \\sum_{j=1}^{i}P_i where i = 1,2, .... ,n $"
   ]
  },
  {
   "cell_type": "markdown",
   "metadata": {},
   "source": [
    "# 5. Calculate Fitness Using either F1 or F2"
   ]
  },
  {
   "cell_type": "code",
   "execution_count": 7,
   "metadata": {},
   "outputs": [
    {
     "name": "stdout",
     "output_type": "stream",
     "text": [
      "[0.3, 0.21, 0.14699999999999996, 0.10289999999999998, 0.07202999999999998, 0.05042099999999998, 0.035294699999999984, 0.02470628999999999, 0.01729440299999999, 0.012106082099999993, 0.008474257469999994, 0.005931980228999996, 0.0041523861602999965, 0.0029066703122099975, 0.002034669218546998, 0.0014242684529828986, 0.000996987917088029, 0.0006978915419616202, 0.0004885240793731341, 0.00034196685556119386]\n"
     ]
    }
   ],
   "source": [
    "# fitness function 1\n",
    "\n",
    "def F1(sortedpop):\n",
    "    bb= 0.3\n",
    "    F = []\n",
    "    \n",
    "    for i in range(1,len(sortedpop)+1):\n",
    "        F.append( bb * ( (1-bb)**(i-1) ) )\n",
    "        \n",
    "    return F\n",
    "\n",
    "print(F1(sP))"
   ]
  },
  {
   "cell_type": "code",
   "execution_count": 8,
   "metadata": {},
   "outputs": [
    {
     "name": "stdout",
     "output_type": "stream",
     "text": [
      "[1.0, 0.95, 0.9, 0.85, 0.8, 0.75, 0.7, 0.65, 0.6, 0.55, 0.5, 0.45, 0.4, 0.35, 0.3, 0.25, 0.2, 0.15, 0.1, 0.05]\n"
     ]
    }
   ],
   "source": [
    "# fitness function 2\n",
    "def F2(sortedpop):\n",
    "    bb= 0.1\n",
    "    n = len(sortedpop)\n",
    "    F = []\n",
    "    \n",
    "    for i in range(1,n+1):\n",
    "        F.append( (n-i+1)/n )\n",
    "        \n",
    "    return F\n",
    "\n",
    "print(F2(sP))"
   ]
  },
  {
   "cell_type": "markdown",
   "metadata": {},
   "source": [
    "# 6. Calculate Probability from Fitness"
   ]
  },
  {
   "cell_type": "code",
   "execution_count": 11,
   "metadata": {},
   "outputs": [
    {
     "name": "stdout",
     "output_type": "stream",
     "text": [
      "[1.0, 0.95, 0.9, 0.85, 0.8, 0.75, 0.7, 0.65, 0.6, 0.55, 0.5, 0.45, 0.4, 0.35, 0.3, 0.25, 0.2, 0.15, 0.1, 0.05]\n",
      "[0.09523809523809523, 0.09047619047619047, 0.08571428571428572, 0.08095238095238096, 0.0761904761904762, 0.07142857142857142, 0.06666666666666667, 0.06190476190476191, 0.05714285714285714, 0.05238095238095238, 0.047619047619047616, 0.04285714285714286, 0.0380952380952381, 0.03333333333333333, 0.02857142857142857, 0.023809523809523808, 0.01904761904761905, 0.014285714285714285, 0.009523809523809525, 0.004761904761904762]\n"
     ]
    }
   ],
   "source": [
    "# Calculate the probability \n",
    "\n",
    "def Pi(fitness):\n",
    "    n = len(fitness)\n",
    "    ans = []\n",
    "    \n",
    "    for i in range(n):\n",
    "        ans.append( fitness[i]/sum(fitness) )\n",
    "        \n",
    "    return ans\n",
    "\n",
    "fitness2 = F2(sP)\n",
    "probabilities2 = Pi(fitness2)\n",
    "\n",
    "print(fitness2)\n",
    "print(probabilities2)"
   ]
  },
  {
   "cell_type": "code",
   "execution_count": 12,
   "metadata": {},
   "outputs": [
    {
     "name": "stdout",
     "output_type": "stream",
     "text": [
      "[0.3, 0.21, 0.14699999999999996, 0.10289999999999998, 0.07202999999999998, 0.05042099999999998, 0.035294699999999984, 0.02470628999999999, 0.01729440299999999, 0.012106082099999993, 0.008474257469999994, 0.005931980228999996, 0.0041523861602999965, 0.0029066703122099975, 0.002034669218546998, 0.0014242684529828986, 0.000996987917088029, 0.0006978915419616202, 0.0004885240793731341, 0.00034196685556119386]\n",
      "[0.3002395679555939, 0.21016769756891573, 0.14711738829824098, 0.10298217180876869, 0.07208752026613809, 0.05046126418629665, 0.03532288493040765, 0.024726019451285355, 0.017308213615899747, 0.012115749531129823, 0.008481024671790875, 0.005936717270253613, 0.004155702089177528, 0.0029089914624242695, 0.0020362940236969885, 0.001425405816587892, 0.0009977840716115243, 0.000698448850128067, 0.0004889141950896468, 0.0003422399365627528]\n"
     ]
    }
   ],
   "source": [
    "fitness1 = F1(P)\n",
    "probabilities1 = Pi(fitness1)\n",
    "\n",
    "print(fitness1)\n",
    "print(probabilities1)"
   ]
  },
  {
   "cell_type": "markdown",
   "metadata": {},
   "source": [
    "# 7. Define Roulette Wheel Values"
   ]
  },
  {
   "cell_type": "code",
   "execution_count": 13,
   "metadata": {},
   "outputs": [
    {
     "name": "stdout",
     "output_type": "stream",
     "text": [
      "[0.3002395679555939, 0.5104072655245097, 0.6575246538227506, 0.7605068256315193, 0.8325943458976574, 0.883055610083954, 0.9183784950143616, 0.943104514465647, 0.9604127280815468, 0.9725284776126766, 0.9810095022844675, 0.9869462195547211, 0.9911019216438985, 0.9940109131063228, 0.9960472071300198, 0.9974726129466077, 0.9984703970182193, 0.9991688458683473, 0.999657760063437, 0.9999999999999998]\n",
      "[0.09523809523809523, 0.18571428571428572, 0.27142857142857146, 0.3523809523809524, 0.4285714285714286, 0.5, 0.5666666666666667, 0.6285714285714286, 0.6857142857142857, 0.7380952380952381, 0.7857142857142858, 0.8285714285714286, 0.8666666666666667, 0.9, 0.9285714285714286, 0.9523809523809524, 0.9714285714285715, 0.9857142857142858, 0.9952380952380953, 1.0]\n"
     ]
    }
   ],
   "source": [
    "# Calculate cumulative sum for roulette wheel \n",
    "\n",
    "def PPi(pi):\n",
    "    n = len(pi)\n",
    "    ans = []\n",
    "    \n",
    "    for i in range(n):\n",
    "        ans.append( sum([i for i in pi[:i+1]]) )\n",
    "    return ans \n",
    "\n",
    "RV1 = PPi(probabilities1)\n",
    "RV2 = PPi(probabilities2)\n",
    "\n",
    "print(RV1)\n",
    "print(RV2)"
   ]
  },
  {
   "cell_type": "markdown",
   "metadata": {},
   "source": [
    "# 8. Carryout CrossOver "
   ]
  },
  {
   "cell_type": "code",
   "execution_count": 14,
   "metadata": {},
   "outputs": [
    {
     "data": {
      "text/plain": [
       "([1, 8, 6, 7, 3, 9, 5, 2, 0, 4], [5, 0, 7, 3, 6, 8, 4, 9, 1, 2])"
      ]
     },
     "execution_count": 14,
     "metadata": {},
     "output_type": "execute_result"
    }
   ],
   "source": [
    "# 8.1 Roulette Wheel selection\n",
    "\n",
    "def Roulette(ppi, Pop):\n",
    "    n = len(ppi)\n",
    "    ra = random.random()\n",
    "    \n",
    "    for i in range(n):\n",
    "        if i == 0 :\n",
    "            if ra > 0 and ra < ppi[i]:\n",
    "                return Pop[i]\n",
    "        else:\n",
    "            if ra > ppi[i-1] and ra < ppi[i]:\n",
    "                return Pop[i]\n",
    "            \n",
    "Parent1 = Roulette(RV1, sP) ; Parent2 = Roulette(RV2, sP)\n",
    "\n",
    "Parent1, Parent2"
   ]
  },
  {
   "cell_type": "code",
   "execution_count": 15,
   "metadata": {},
   "outputs": [
    {
     "data": {
      "text/plain": [
       "(2, 6)"
      ]
     },
     "execution_count": 15,
     "metadata": {},
     "output_type": "execute_result"
    }
   ],
   "source": [
    "# 8.2 Select 2 points for crossover . two point crossover\n",
    "\n",
    "def p1p2(chromosome):\n",
    "    n= len(chromosome)\n",
    "    P1, P2 = 0, 0\n",
    "    \n",
    "    while P1 == P2 or P2 - P1 < 2:  # can allow us to also set a minimum space between two points (here its 2)\n",
    "        P1 = int(random.uniform(1,n)) #only n-1 slicing spaces available \n",
    "        P2 = int(random.uniform(1,n))\n",
    "    \n",
    "        if P1>P2:\n",
    "            P1, P2 = (P2, P1)\n",
    "        #print(\"Running\")\n",
    "    return (P1, P2)\n",
    "\n",
    "p1, p2 = p1p2(Parent1)\n",
    "\n",
    "p1,p2"
   ]
  },
  {
   "cell_type": "code",
   "execution_count": 16,
   "metadata": {},
   "outputs": [
    {
     "data": {
      "text/plain": [
       "([8, 3, 5, 2, 0, 4, 6, 9, 7, 1], [8, 3, 5, 2, 0, 4, 6, 9, 7, 1])"
      ]
     },
     "execution_count": 16,
     "metadata": {},
     "output_type": "execute_result"
    }
   ],
   "source": [
    "# 8.3 choose 2 parents \n",
    "A = Roulette(RV1, sP)\n",
    "B = Roulette(RV2, sP)\n",
    "\n",
    "A, B"
   ]
  },
  {
   "cell_type": "code",
   "execution_count": 17,
   "metadata": {},
   "outputs": [
    {
     "data": {
      "text/plain": [
       "([8, 3], [5, 2, 0, 4], [6, 9, 7, 1])"
      ]
     },
     "execution_count": 17,
     "metadata": {},
     "output_type": "execute_result"
    }
   ],
   "source": [
    "# view first, mid and last section of A after crossover points are used\n",
    "\n",
    "fA = A[ :p1]\n",
    "mA = A[p1:p2]\n",
    "lA = A[p2: ]\n",
    "\n",
    "fA, mA, lA"
   ]
  },
  {
   "cell_type": "code",
   "execution_count": 18,
   "metadata": {},
   "outputs": [
    {
     "data": {
      "text/plain": [
       "([8, 3], [5, 2, 0, 4], [6, 9, 7, 1])"
      ]
     },
     "execution_count": 18,
     "metadata": {},
     "output_type": "execute_result"
    }
   ],
   "source": [
    "# view first, mid and last section of B after crossover points are used\n",
    "\n",
    "fB = B[ :p1]\n",
    "mB = B[p1:p2]\n",
    "lB = B[p2: ]\n",
    "fB, mB, lB"
   ]
  },
  {
   "cell_type": "code",
   "execution_count": 19,
   "metadata": {},
   "outputs": [
    {
     "data": {
      "text/plain": [
       "([6, 9, 7, 1, 8, 3, 5, 2, 0, 4], [6, 9, 7, 1, 8, 3, 5, 2, 0, 4])"
      ]
     },
     "execution_count": 19,
     "metadata": {},
     "output_type": "execute_result"
    }
   ],
   "source": [
    "# 8.4 rotate 3rd section to beginning \n",
    "\n",
    "Ao = lA + A[ :p2] \n",
    "Bo = lB + B[ :p2] \n",
    "Ao, Bo"
   ]
  },
  {
   "cell_type": "code",
   "execution_count": 20,
   "metadata": {},
   "outputs": [
    {
     "data": {
      "text/plain": [
       "([6, 9, 7, 1, 8, 3], [6, 9, 7, 1, 8, 3])"
      ]
     },
     "execution_count": 20,
     "metadata": {},
     "output_type": "execute_result"
    }
   ],
   "source": [
    "# 8.5 Delete middles from other chromosomes\n",
    "\n",
    "[Ao.remove(i) for i in mB]\n",
    "[Bo.remove(i) for i in mA]\n",
    "Ao, Bo"
   ]
  },
  {
   "cell_type": "code",
   "execution_count": 21,
   "metadata": {},
   "outputs": [
    {
     "data": {
      "text/plain": [
       "([6, 9, 7, 1], [6, 9, 7, 1])"
      ]
     },
     "execution_count": 21,
     "metadata": {},
     "output_type": "execute_result"
    }
   ],
   "source": [
    "# 8.6 select the first k elements the new Ao and Bo. k is length of last section of A or B\n",
    "fAo = Ao[:len(lA)]\n",
    "fBo = Bo[:len(lB)]\n",
    "\n",
    "fAo, fBo"
   ]
  },
  {
   "cell_type": "code",
   "execution_count": 22,
   "metadata": {},
   "outputs": [
    {
     "data": {
      "text/plain": [
       "([8, 3, 5, 2, 0, 4, 6, 9, 7, 1], [8, 3, 5, 2, 0, 4, 6, 9, 7, 1])"
      ]
     },
     "execution_count": 22,
     "metadata": {},
     "output_type": "execute_result"
    }
   ],
   "source": [
    "# 8.7 Take first k elements where k is the length of the last section in the start, move them to end of list. \n",
    "# Bring the middle of B to Ao  and verse vers, Produce first set of offsprings\n",
    "\n",
    "oA = Ao[len(fAo):] + mB + fAo \n",
    "oB = Bo[len(fBo):] + mA + fBo\n",
    "oA, oB"
   ]
  },
  {
   "cell_type": "code",
   "execution_count": 23,
   "metadata": {},
   "outputs": [
    {
     "data": {
      "text/plain": [
       "[395.31192521026696, 395.31192521026696]"
      ]
     },
     "execution_count": 23,
     "metadata": {},
     "output_type": "execute_result"
    }
   ],
   "source": [
    "# check out their cost \n",
    "Cost([oA,oB], CM)"
   ]
  },
  {
   "cell_type": "code",
   "execution_count": 24,
   "metadata": {},
   "outputs": [
    {
     "data": {
      "text/plain": [
       "([5, 2, 0, 4, 8, 3, 6, 9, 7, 1],\n",
       " [5, 2, 0, 4, 8, 3, 6, 9, 7, 1],\n",
       " [8, 3, 5, 2, 0, 4, 6, 9, 7, 1],\n",
       " [8, 3, 5, 2, 0, 4, 6, 9, 7, 1])"
      ]
     },
     "execution_count": 24,
     "metadata": {},
     "output_type": "execute_result"
    }
   ],
   "source": [
    "# 8.8 produce ANother set of 2 More offsprings\n",
    "\n",
    "# 8.8.1 Exchange section 1 and 2 of A, do same for B\n",
    "\n",
    "Ao1 = mA + fA + lA\n",
    "Bo1 = mB + fB + lB\n",
    "\n",
    "Ao1, Bo1, A, B"
   ]
  },
  {
   "cell_type": "code",
   "execution_count": 25,
   "metadata": {},
   "outputs": [
    {
     "data": {
      "text/plain": [
       "([5, 2, 0, 4, 8, 3, 6, 9, 7, 1], [5, 2, 0, 4, 8, 3, 6, 9, 7, 1])"
      ]
     },
     "execution_count": 25,
     "metadata": {},
     "output_type": "execute_result"
    }
   ],
   "source": [
    "#8.8.2 Exchange the 3rd sections of A with that of B after removing elements of lB from A and vice versa after removing elements \n",
    "\n",
    "oA1 = Ao1[:p2] + lB\n",
    "oB1 = Bo1[:p2] + lA\n",
    "\n",
    "oA1, oB1"
   ]
  },
  {
   "cell_type": "code",
   "execution_count": 26,
   "metadata": {},
   "outputs": [
    {
     "data": {
      "text/plain": [
       "[438.03549464865984, 438.03549464865984]"
      ]
     },
     "execution_count": 26,
     "metadata": {},
     "output_type": "execute_result"
    }
   ],
   "source": [
    "Cost([oA1,oB1], CM)"
   ]
  },
  {
   "cell_type": "markdown",
   "metadata": {},
   "source": [
    "# 9. Mutation"
   ]
  },
  {
   "cell_type": "code",
   "execution_count": 27,
   "metadata": {},
   "outputs": [
    {
     "data": {
      "text/plain": [
       "(1, 9)"
      ]
     },
     "execution_count": 27,
     "metadata": {},
     "output_type": "execute_result"
    }
   ],
   "source": [
    "# an offspring is mutated with probability pm. To mutate, select mutation points same as p1 and p2 and flip the order \n",
    "\n",
    "p1, p2 = p1p2(A)\n",
    "\n",
    "p1, p2\n"
   ]
  },
  {
   "cell_type": "code",
   "execution_count": 28,
   "metadata": {},
   "outputs": [
    {
     "data": {
      "text/plain": [
       "([3, 5, 2, 0, 4, 6, 9, 7], [8], [1])"
      ]
     },
     "execution_count": 28,
     "metadata": {},
     "output_type": "execute_result"
    }
   ],
   "source": [
    "moA = oA[p1:p2]\n",
    "moA, oA[ :p1], oA[p2:]"
   ]
  },
  {
   "cell_type": "code",
   "execution_count": 29,
   "metadata": {},
   "outputs": [
    {
     "data": {
      "text/plain": [
       "[8, 7, 9, 6, 4, 0, 2, 5, 3, 1]"
      ]
     },
     "execution_count": 29,
     "metadata": {},
     "output_type": "execute_result"
    }
   ],
   "source": [
    "moA.reverse()\n",
    "Mutated_oA = oA[ :p1] + moA + oA[p2:]\n",
    "\n",
    "Mutated_oA"
   ]
  },
  {
   "cell_type": "code",
   "execution_count": 30,
   "metadata": {},
   "outputs": [
    {
     "data": {
      "text/plain": [
       "[433.58055764692256]"
      ]
     },
     "execution_count": 30,
     "metadata": {},
     "output_type": "execute_result"
    }
   ],
   "source": [
    "# check out the cost\n",
    "\n",
    "Cost([Mutated_oA], CM)"
   ]
  },
  {
   "cell_type": "code",
   "execution_count": null,
   "metadata": {},
   "outputs": [],
   "source": []
  },
  {
   "cell_type": "code",
   "execution_count": null,
   "metadata": {},
   "outputs": [],
   "source": []
  }
 ],
 "metadata": {
  "kernelspec": {
   "display_name": "Python [default]",
   "language": "python",
   "name": "python3"
  },
  "language_info": {
   "codemirror_mode": {
    "name": "ipython",
    "version": 3
   },
   "file_extension": ".py",
   "mimetype": "text/x-python",
   "name": "python",
   "nbconvert_exporter": "python",
   "pygments_lexer": "ipython3",
   "version": "3.5.6"
  }
 },
 "nbformat": 4,
 "nbformat_minor": 2
}
