{
 "cells": [
  {
   "cell_type": "markdown",
   "metadata": {},
   "source": [
    "# Binary Representation Crossover"
   ]
  },
  {
   "cell_type": "code",
   "execution_count": 2,
   "metadata": {},
   "outputs": [],
   "source": [
    "import random"
   ]
  },
  {
   "cell_type": "code",
   "execution_count": 3,
   "metadata": {},
   "outputs": [
    {
     "name": "stdout",
     "output_type": "stream",
     "text": [
      "4096\n",
      "1010101\n"
     ]
    }
   ],
   "source": [
    "# convert binary to real and vice versa\n",
    "\n",
    "# binary to decimal    int(number,2)\n",
    "a = \"1000000000000\"\n",
    "print( int(a,2) )\n",
    "\n",
    "\n",
    "\n",
    "# decimal to binary    bin(number).replace(\"0b\", \"\")\n",
    "b =  int(a,2)\n",
    "print( bin(85).replace(\"0b\", \"\"))"
   ]
  },
  {
   "cell_type": "markdown",
   "metadata": {},
   "source": [
    "# 1. One Point Crossover\n",
    "Segments of genes are swapped to create their offsprings"
   ]
  },
  {
   "cell_type": "code",
   "execution_count": 4,
   "metadata": {},
   "outputs": [
    {
     "data": {
      "text/plain": [
       "('1010101', '1011111')"
      ]
     },
     "execution_count": 4,
     "metadata": {},
     "output_type": "execute_result"
    }
   ],
   "source": [
    "# pick a point between 1 and n-1 where n is the length of the bitstring. \n",
    "\n",
    "A = bin(85).replace(\"0b\", \"\")\n",
    "B = bin(95).replace(\"0b\", \"\")\n",
    "A,B"
   ]
  },
  {
   "cell_type": "code",
   "execution_count": 5,
   "metadata": {},
   "outputs": [
    {
     "data": {
      "text/plain": [
       "3"
      ]
     },
     "execution_count": 5,
     "metadata": {},
     "output_type": "execute_result"
    }
   ],
   "source": [
    "cp  = int(random.uniform(1, len(A)))\n",
    "cp"
   ]
  },
  {
   "cell_type": "code",
   "execution_count": 6,
   "metadata": {},
   "outputs": [
    {
     "data": {
      "text/plain": [
       "('1010101', '1011111', '1011111', '1010101')"
      ]
     },
     "execution_count": 6,
     "metadata": {},
     "output_type": "execute_result"
    }
   ],
   "source": [
    "# Crossover A and B to get A' and B'\n",
    "\n",
    "A0 = A[:cp] + B[cp:]\n",
    "B0 = B[:cp] + A[cp:]\n",
    "\n",
    "A,A0,B,B0"
   ]
  },
  {
   "cell_type": "code",
   "execution_count": 7,
   "metadata": {},
   "outputs": [],
   "source": [
    "# Write a one point crossover function  N/B note that A and B must be same length \n",
    "\n",
    "def opc(A,B):\n",
    "    cp  = int(random.uniform(1, len(A)))\n",
    "    A0 = A[:cp] + B[cp:]\n",
    "    B0 = B[:cp] + A[cp:]\n",
    "    \n",
    "    return A,A0,B,B0"
   ]
  },
  {
   "cell_type": "code",
   "execution_count": 8,
   "metadata": {},
   "outputs": [
    {
     "data": {
      "text/plain": [
       "('100000000', '100110101', '100110101', '100000000')"
      ]
     },
     "execution_count": 8,
     "metadata": {},
     "output_type": "execute_result"
    }
   ],
   "source": [
    "A = bin(256).replace(\"0b\", \"\")\n",
    "B = bin(309).replace(\"0b\", \"\")\n",
    "\n",
    "opc (A,B)"
   ]
  },
  {
   "cell_type": "markdown",
   "metadata": {},
   "source": [
    "# 2. Two point Crossover"
   ]
  },
  {
   "cell_type": "code",
   "execution_count": 9,
   "metadata": {},
   "outputs": [
    {
     "data": {
      "text/plain": [
       "(5, 6)"
      ]
     },
     "execution_count": 9,
     "metadata": {},
     "output_type": "execute_result"
    }
   ],
   "source": [
    "cp1, cp2 = int(random.uniform(1,len(A))), int(random.uniform(1,len(A)))\n",
    "\n",
    "cp1, cp2"
   ]
  },
  {
   "cell_type": "code",
   "execution_count": 10,
   "metadata": {},
   "outputs": [
    {
     "data": {
      "text/plain": [
       "(5, 6)"
      ]
     },
     "execution_count": 10,
     "metadata": {},
     "output_type": "execute_result"
    }
   ],
   "source": [
    "# make sure cp1 is greater than cp2\n",
    "\n",
    "if cp1 > cp2:\n",
    "    cp1, cp2 = (cp2, cp1)\n",
    "cp1,cp2"
   ]
  },
  {
   "cell_type": "code",
   "execution_count": 11,
   "metadata": {},
   "outputs": [
    {
     "data": {
      "text/plain": [
       "(5, 6)"
      ]
     },
     "execution_count": 11,
     "metadata": {},
     "output_type": "execute_result"
    }
   ],
   "source": [
    "# make sure cp1 is different from cp2\n",
    "\n",
    "if cp1 == cp2 and cp1 != len(A)-1:\n",
    "    a = cp1 - len(A)\n",
    "    cp2 = cp1 + a\n",
    "\n",
    "cp1, cp2                                              # OR if cp1 = cp2 do one point crossover "
   ]
  },
  {
   "cell_type": "code",
   "execution_count": 12,
   "metadata": {},
   "outputs": [
    {
     "data": {
      "text/plain": [
       "(5, 6)"
      ]
     },
     "execution_count": 12,
     "metadata": {},
     "output_type": "execute_result"
    }
   ],
   "source": [
    "# if cps are same and both at the end point \n",
    "\n",
    "if cp1 == cp2 and cp1 == len(A)-1:\n",
    "    cp1 = cp1 - 1\n",
    "    \n",
    "cp1, cp2    "
   ]
  },
  {
   "cell_type": "code",
   "execution_count": 13,
   "metadata": {},
   "outputs": [],
   "source": [
    "def cp12(A):\n",
    "    n= len(A)\n",
    "    cp1, cp2 = 0, 0\n",
    "    \n",
    "    # select crossover points\n",
    "    while cp1 == cp2 or cp2 - cp1 < 1:  # can allow us to also set a minimum space between two points (here its 1)\n",
    "        cp1 = int(random.uniform(1,n)) #only n-1 slicing spaces available \n",
    "        cp2 = int(random.uniform(1,n))\n",
    "    \n",
    "        if cp1 > cp2:\n",
    "            cp1, cp2 = (cp2, cp1)\n",
    "            \n",
    "    return (cp1, cp2)"
   ]
  },
  {
   "cell_type": "code",
   "execution_count": 14,
   "metadata": {},
   "outputs": [
    {
     "data": {
      "text/plain": [
       "(4, 7)"
      ]
     },
     "execution_count": 14,
     "metadata": {},
     "output_type": "execute_result"
    }
   ],
   "source": [
    "A = bin(256).replace(\"0b\", \"\")\n",
    "B = bin(299).replace(\"0b\", \"\")\n",
    "\n",
    "cp1, cp2 = cp12(A)\n",
    "\n",
    "cp1, cp2"
   ]
  },
  {
   "cell_type": "code",
   "execution_count": 15,
   "metadata": {},
   "outputs": [
    {
     "name": "stdout",
     "output_type": "stream",
     "text": [
      "6 8\n"
     ]
    },
    {
     "data": {
      "text/plain": [
       "('100000000', '100000010', '100101011', '100101001')"
      ]
     },
     "execution_count": 15,
     "metadata": {},
     "output_type": "execute_result"
    }
   ],
   "source": [
    "# write a two pont crossover function pick two bit positions and the section between them are swapped \n",
    "\n",
    "def tpc(A,B):\n",
    "    \n",
    "    cp1, cp2 = cp12(A)\n",
    "    #print(cp1, cp2)\n",
    "    \n",
    "    mA = A[cp1:cp2] ; mB = B[cp1:cp2]\n",
    "    A0 = A[ :cp1] + mB + A[cp2: ]\n",
    "    B0 = B[ :cp1] + mA + B[cp2: ]\n",
    "    \n",
    "    return A, A0, B, B0\n",
    "\n",
    "tpc(A,B)"
   ]
  },
  {
   "cell_type": "markdown",
   "metadata": {},
   "source": [
    "# 3. Uniform Crossover\n",
    "Here a bit is swapped with probability Px"
   ]
  },
  {
   "cell_type": "code",
   "execution_count": 16,
   "metadata": {},
   "outputs": [
    {
     "data": {
      "text/plain": [
       "('100000000', '100101011')"
      ]
     },
     "execution_count": 16,
     "metadata": {},
     "output_type": "execute_result"
    }
   ],
   "source": [
    "A, B"
   ]
  },
  {
   "cell_type": "code",
   "execution_count": 51,
   "metadata": {},
   "outputs": [],
   "source": [
    "def uc(A, B, Px=0.5):\n",
    "    n = len(A)\n",
    "    A0 = \"\"\n",
    "    B0 = \"\"\n",
    "    \n",
    "    for i in range(n):\n",
    "        \n",
    "        if random.random() < Px:\n",
    "            A0 += B[i]\n",
    "            B0 += A[i]\n",
    "        else:\n",
    "            A0 += A[i]\n",
    "            B0 += B[i]\n",
    "    \n",
    "    return A, A0, B, B0"
   ]
  },
  {
   "cell_type": "code",
   "execution_count": 52,
   "metadata": {},
   "outputs": [
    {
     "data": {
      "text/plain": [
       "('100000000', '100001011', '100101011', '100100000')"
      ]
     },
     "execution_count": 52,
     "metadata": {},
     "output_type": "execute_result"
    }
   ],
   "source": [
    "uc(A, B)"
   ]
  },
  {
   "cell_type": "markdown",
   "metadata": {},
   "source": [
    "# 4. Multi-Parent CrossOver \n",
    "\n",
    "Here, only one offspring is produced from n parents. The number of parents $n$ are choosen. an offspring is generated as follows\n",
    "\n",
    "$x_{i,j} = {_{1 otherwise}^{0 if n' >= n/2}$\n",
    " \n",
    " for a given parent index, if majority of other parents have index 0 replace with zero else do otherwise\n",
    " n' is the number of parents with value equal to zero at a given index"
   ]
  },
  {
   "cell_type": "code",
   "execution_count": 128,
   "metadata": {},
   "outputs": [],
   "source": [
    "def mpc(A): \n",
    "    \"\"\" A here is number of parents\n",
    "      outputs only one parent \"\"\"\n",
    "    \n",
    "    n = len(A)\n",
    "    A0 = \" \"\n",
    "    \n",
    "    for i in range(len(A[0])):\n",
    "        nu = 0\n",
    "              \n",
    "        for k in A:\n",
    "            # count number of zeros\n",
    "            if k[i] == \"0\":   \n",
    "                nu += 1       \n",
    "        #print(nu, n)      \n",
    "        if nu >= n/2:\n",
    "            A0 += \"0\"\n",
    "        else:\n",
    "            A0 += \"1\"\n",
    "            \n",
    "    #A.append(A0)\n",
    "    return A0\n",
    "            "
   ]
  },
  {
   "cell_type": "code",
   "execution_count": 133,
   "metadata": {},
   "outputs": [
    {
     "data": {
      "text/plain": [
       "('100000011', '100010010', '100111100', '100101011', ' 100000010')"
      ]
     },
     "execution_count": 133,
     "metadata": {},
     "output_type": "execute_result"
    }
   ],
   "source": [
    "A = bin(259).replace(\"0b\", \"\")\n",
    "B = bin(274).replace(\"0b\", \"\")\n",
    "C = bin(316).replace(\"0b\", \"\")\n",
    "D = bin(299).replace(\"0b\", \"\")\n",
    "\n",
    "A, B, C, D, mpc([A,B,C,D]),"
   ]
  },
  {
   "cell_type": "markdown",
   "metadata": {},
   "source": [
    "# 5. Multi-Parent n Point crossover \n",
    "Here n-1 identical crossover points are selected from n parents where n is the number of parents. One offspring is generated by slecting one section from each parent. the length of one segment is legth of chromosome divided by n-1"
   ]
  },
  {
   "cell_type": "code",
   "execution_count": 134,
   "metadata": {},
   "outputs": [],
   "source": [
    "def nmpc(A):\n",
    "    \"\"\" A here is number of parents\n",
    "      outputs only one parent \"\"\"\n",
    "    \n",
    "    n = len(A) # number of parents\n",
    "    A0 = \" \"\n",
    "    secL = len(A[0])/ n  # The lenght of one segment\n",
    "    cp = [int(secL*i) for i in range(n)]\n",
    "    cp = cp[1:]\n",
    "    #print(cp,n)\n",
    "    \n",
    "    for i, j in enumerate(A):\n",
    "      \n",
    "        if i == 0:\n",
    "            A0 += j[:cp[i]]\n",
    "        elif i == n-1 and cp[i-1] < len(j):\n",
    "            A0 += j[cp[i-1]: ]\n",
    "        elif cp[i] < len(j):\n",
    "            A0 += j[cp[i-1]:cp[i]]\n",
    "            \n",
    "        print(A, A0)\n",
    "            \n",
    "    return A0"
   ]
  },
  {
   "cell_type": "code",
   "execution_count": 135,
   "metadata": {},
   "outputs": [
    {
     "name": "stdout",
     "output_type": "stream",
     "text": [
      "['100000011', '100010010', '100111100', '100101011']  10\n",
      "['100000011', '100010010', '100111100', '100101011']  1000\n",
      "['100000011', '100010010', '100111100', '100101011']  100011\n",
      "['100000011', '100010010', '100111100', '100101011']  100011011\n"
     ]
    },
    {
     "data": {
      "text/plain": [
       "' 100011011'"
      ]
     },
     "execution_count": 135,
     "metadata": {},
     "output_type": "execute_result"
    }
   ],
   "source": [
    "nmpc([A,B,C,D])"
   ]
  },
  {
   "cell_type": "markdown",
   "metadata": {},
   "source": [
    "# 6. Hill Climbing CrossOver \n",
    "Starts with 2 parents and continue to produce offsprings from these base pair of parents untill a maximum number of crossover attempts has been exceeded or a pair of offsprings are found where one of the offspring has a better fitness than the best parent. Crossover hillclimbing then continues reproduction using these two offspring as the new parent pair. If a better parent pair cannot be found within the specified time limit, the worst parent is replaced by a randomly selected parent."
   ]
  },
  {
   "cell_type": "code",
   "execution_count": 140,
   "metadata": {},
   "outputs": [],
   "source": [
    "def hcc(f, A, n):\n",
    "    \"\"\" f is the fitness function\n",
    "    A is list of parents \n",
    "    n is the number of crossovers\"\"\"\n",
    "    A, B = A[0], A[1]\n",
    "    A0, B0 = np.inf, np.inf\n",
    "    BestA = min([f(i) for i in A])\n",
    "    \n",
    "    while n > 0 or (f(A0) < BestA or f(B0) < BestA):\n",
    "        _, A0, _, B0 = tpc(A, B)\n",
    "            \n",
    "        n -= 1\n",
    "        \n",
    "    return A0, B0, A, B\n",
    "        "
   ]
  },
  {
   "cell_type": "code",
   "execution_count": null,
   "metadata": {},
   "outputs": [],
   "source": []
  }
 ],
 "metadata": {
  "kernelspec": {
   "display_name": "Python [default]",
   "language": "python",
   "name": "python3"
  },
  "language_info": {
   "codemirror_mode": {
    "name": "ipython",
    "version": 3
   },
   "file_extension": ".py",
   "mimetype": "text/x-python",
   "name": "python",
   "nbconvert_exporter": "python",
   "pygments_lexer": "ipython3",
   "version": "3.5.6"
  }
 },
 "nbformat": 4,
 "nbformat_minor": 2
}
