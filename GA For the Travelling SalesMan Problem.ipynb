{
 "cells": [
  {
   "cell_type": "markdown",
   "metadata": {},
   "source": [
    "# GA for The Toy TSA"
   ]
  },
  {
   "cell_type": "code",
   "execution_count": null,
   "metadata": {},
   "outputs": [],
   "source": [
    "#------------------------------------------------------------------------------+\n",
    "#   CHIA E TUNGOM\n",
    "#   Genetic Algorithm for TSA \n",
    "#   March, 2020\n",
    "#------------------------------------------------------------------------------+"
   ]
  },
  {
   "cell_type": "code",
   "execution_count": 1,
   "metadata": {},
   "outputs": [],
   "source": [
    "import random "
   ]
  },
  {
   "cell_type": "markdown",
   "metadata": {},
   "source": [
    "# Initialize Solutions and Define Cost Matrix"
   ]
  },
  {
   "cell_type": "code",
   "execution_count": 2,
   "metadata": {},
   "outputs": [],
   "source": [
    "def Initialize(pop, dim):\n",
    "    \n",
    "    population = []\n",
    "    i = 0\n",
    "    \n",
    "    while len(population) < pop and i < 100:       # i helps to terminate while loops if population keeps repeating:\n",
    "        chromosome = []\n",
    "        \n",
    "        while len(chromosome) < dim:\n",
    "            a = int(random.uniform(0,dim))\n",
    "            \n",
    "            if a not in chromosome:\n",
    "                chromosome.append(a)\n",
    "                \n",
    "        # dont allow repetition of same chromosome        \n",
    "        if chromosome in population:\n",
    "            print(\"IGNORING......: \", chromosome)\n",
    "            i += 1\n",
    "        else:\n",
    "            population.append(chromosome)\n",
    "        \n",
    "        \n",
    "    return population\n",
    "\n",
    "\n",
    "# for trial, randomly define cost matrix if not given\n",
    "def Cmatrix(dim, bound = (5,50)):\n",
    "    \n",
    "    b = [(i, str(i)) for i in range(dim)]   \n",
    "    matrix = []\n",
    "    \n",
    "    for i,j in b:\n",
    "        if i == 0:\n",
    "            j = []\n",
    "            j.append(0)\n",
    "            matrix.append(j)\n",
    "        else:\n",
    "            j=[]\n",
    "            for k in range(i+1):\n",
    "                if k == i:\n",
    "                    j.append(0)\n",
    "                else:\n",
    "                    j.append(random.uniform(bound[0], bound[1]))\n",
    "            matrix.append(j)\n",
    "            \n",
    "    M = matrix        \n",
    "    for i in range(len(M)):\n",
    "        \n",
    "        for j in range(1,len(M)-len(M[i])+1):\n",
    "            M[i].append(M[i+j][i]) \n",
    "            \n",
    "    return M\n"
   ]
  },
  {
   "cell_type": "markdown",
   "metadata": {},
   "source": [
    "# Calculate Route Cost and Sort Solutions "
   ]
  },
  {
   "cell_type": "code",
   "execution_count": 3,
   "metadata": {},
   "outputs": [],
   "source": [
    "# calculate cost of each route\n",
    "def Cost(Pop, Cmatrix):\n",
    "    Cvector = []\n",
    "    \n",
    "    for i in range(len(Pop)):\n",
    "        route = Pop[i]\n",
    "        cost = 0\n",
    "        \n",
    "        for j in range(len(route)-1):\n",
    "            cost += Cmatrix[route[j]][route[j+1]]\n",
    "        cost += Cmatrix[route[0]][route[len(route)-1]]   \n",
    "        Cvector.append(cost)\n",
    "        \n",
    "    return Cvector\n",
    "\n",
    "# Sort Chromosomes from Best to Worst\n",
    "def Sortpop(Pop, Cmatrix):\n",
    "    cost = Cost(Pop, Cmatrix)\n",
    "    ans = [ x for _,x in sorted(zip(cost, Pop))]\n",
    "    #cost = [ _ for _,x in sorted(zip(cost, Pop))]  # need be to use the true cost\n",
    "    return ans"
   ]
  },
  {
   "cell_type": "markdown",
   "metadata": {},
   "source": [
    "# Define fitness functions"
   ]
  },
  {
   "cell_type": "code",
   "execution_count": 4,
   "metadata": {},
   "outputs": [],
   "source": [
    "# fitness function 1\n",
    "def F1(sortedpop):\n",
    "    bb= 0.3\n",
    "    F = []\n",
    "    \n",
    "    for i in range(1,len(sortedpop)+1):\n",
    "        F.append( bb * ( (1-bb)**(i-1) ) )\n",
    "        \n",
    "    return F\n",
    "\n",
    "# fitness function 1\n",
    "def F2(sortedpop):\n",
    "    bb= 0.1\n",
    "    n = len(sortedpop)\n",
    "    F = []\n",
    "    \n",
    "    for i in range(1,n+1):\n",
    "        F.append( (n-i+1)/n )\n",
    "        \n",
    "    return F\n",
    "    "
   ]
  },
  {
   "cell_type": "markdown",
   "metadata": {},
   "source": [
    "# Define Probability and Roulette Probability "
   ]
  },
  {
   "cell_type": "code",
   "execution_count": 5,
   "metadata": {},
   "outputs": [],
   "source": [
    "# Calculate the probability \n",
    "def Pi(fitness):\n",
    "    n = len(fitness)\n",
    "    ans = []\n",
    "    \n",
    "    for i in range(n):\n",
    "        ans.append( fitness[i]/sum(fitness) )\n",
    "        \n",
    "    return ans\n",
    "\n",
    "# Calculate cumulative sum for roulette wheel \n",
    "def PPi(pi):\n",
    "    n = len(pi)\n",
    "    ans = []\n",
    "    \n",
    "    for i in range(n):\n",
    "        ans.append( sum([i for i in pi[:i+1]]) )\n",
    "    return ans \n"
   ]
  },
  {
   "cell_type": "markdown",
   "metadata": {},
   "source": [
    "# Roulette Wheel Selection"
   ]
  },
  {
   "cell_type": "code",
   "execution_count": 6,
   "metadata": {},
   "outputs": [],
   "source": [
    "# Roulette Wheel \n",
    "def Roulette(ppi, Pop):\n",
    "    n = len(ppi)\n",
    "    ra = random.random()\n",
    "    \n",
    "    for i in range(n):\n",
    "        if i == 0 :\n",
    "            if ra > 0 and ra < ppi[i]:\n",
    "                return Pop[i]\n",
    "        else:\n",
    "            if ra > ppi[i-1] and ra < ppi[i]:\n",
    "                return Pop[i]\n",
    "                         "
   ]
  },
  {
   "cell_type": "markdown",
   "metadata": {},
   "source": [
    "# Select 2 Intersection points and Do CrossOver and Mutation"
   ]
  },
  {
   "cell_type": "code",
   "execution_count": 13,
   "metadata": {},
   "outputs": [],
   "source": [
    "# Select 2 Intersection points \n",
    "def p1p2(chromosome):\n",
    "    n= len(chromosome)\n",
    "    P1, P2 = 0, 0\n",
    "    \n",
    "    while P1 == P2 or P2 - P1 < 1:  # can allow us to also set a minimum space between two points (here its 2)\n",
    "        P1 = int(random.uniform(1,n)) #only n-2 slicing spaces available \n",
    "        P2 = int(random.uniform(1,n))\n",
    "    \n",
    "        if P1>P2:\n",
    "            P1, P2 = (P2, P1)\n",
    "        \n",
    "        #print(\"Running\")\n",
    "    return (P1, P2)           \n",
    "\n",
    "# CrossOver\n",
    "def Crossover(Pop, PPi):\n",
    "    \n",
    "    p1, p2 = p1p2(Pop[0])\n",
    "    #A, B = 0,0\n",
    "    #while A == B:\n",
    "    A = Roulette(PPi, Pop) ; B = Roulette(PPi, Pop)\n",
    "    \n",
    "    fA = A[ :p1] ; mA = A[p1:p2] ; lA = A[p2: ]\n",
    "    fB = B[ :p1] ; mB = B[p1:p2] ; lB = B[p2: ]\n",
    "    \n",
    "    # rotate 3rd section to beginning \n",
    "    Ao = lA + A[ :p2] ; Bo = lB + B[ :p2] \n",
    "    \n",
    "    # Delete middles from other chromosomes\n",
    "    [Ao.remove(i) for i in mB] ; [Bo.remove(i) for i in mA]\n",
    "    \n",
    "    fAo = Ao[:len(lA)] ; fBo = Bo[:len(lB)]\n",
    "    \n",
    "    # Take first k elements where k is the length of the last section in the start, \n",
    "    # move them to end of list. Bring the middle of B\n",
    "    # to Ao  and verse vers, Produce first set of offsprings\n",
    "\n",
    "    oA = Ao[len(fAo):] + mB + fAo ; oB = Bo[len(fBo):] + mA + fBo\n",
    "    \n",
    "    # Nother set of 2 More offsprings\n",
    "    # Exchange section 1 and 2 of A, do same for B\n",
    "\n",
    "    Ao1 = mA + fA + lA ; Bo1 = mB + fB + lB\n",
    "    \n",
    "    # Delete middles from other chromosomes\n",
    "    [Ao1.remove(i) for i in lB] ; [Bo1.remove(i) for i in lA]\n",
    "    # Exchange the 3rd sections of both A and B\n",
    "    oA1 = Ao1[:p2] + lB ; oB1 = Bo1[:p2] + lA \n",
    "    \n",
    "    #print([oA, oB, oA1, oB1])\n",
    "    return [oA, oB, oA1, oB1]\n",
    "\n",
    "def Mutation(CrossedOver, pm):\n",
    "    # an offspring is mutated with probability pm\n",
    "    # To mutate, select mutation points same as p1 and p2 and flip the order \n",
    "    \n",
    "    \n",
    "    Mutated = []\n",
    "    for i in CrossedOver:\n",
    "        if random.random() < pm:\n",
    "            p1, p2 = p1p2(i)\n",
    "            moA = i[p1:p2]\n",
    "            moA.reverse()\n",
    "            Mi = i[ :p1] + moA + i[p2: ]\n",
    "        \n",
    "            Mutated.append(Mi)\n",
    "        \n",
    "    return Mutated\n",
    "        \n",
    "    "
   ]
  },
  {
   "cell_type": "markdown",
   "metadata": {},
   "source": [
    "# GA for Travelling Salesman Problem"
   ]
  },
  {
   "cell_type": "code",
   "execution_count": 14,
   "metadata": {},
   "outputs": [],
   "source": [
    "def GA(population, dimension, bound, runs = 50):\n",
    "    \n",
    "    X = Initialize(population, dimension)\n",
    "    \n",
    "    random.seed(100)\n",
    "    CM = Cmatrix(dimension, bound)\n",
    "    pm = 0.5\n",
    "    k = 3                 # number of elites\n",
    "    \n",
    "    i = 0\n",
    "    while i < runs:\n",
    "        \n",
    "        sX = Sortpop(X, CM)\n",
    "        print(Cost(sX, CM)[0])\n",
    "        #print(len(sX))\n",
    "        elites = sX[:k]\n",
    "        #sX = sX[ :population]\n",
    "        \n",
    "        #f1 = F1(sX)\n",
    "        f1 = F2(sX)\n",
    "        P = Pi(f1)\n",
    "        PP = PPi(P)\n",
    "        X = []\n",
    "        \n",
    "        for j in range(int(len(sX)/2)):\n",
    "            OV = Crossover(sX, PP)\n",
    "            OM = Mutation(OV, pm)\n",
    "            X += OM\n",
    "        \n",
    "        i += 1\n",
    "        X += elites\n",
    "        \n",
    "    sX = Sortpop(X, CM)\n",
    "    cost = Cost(sX, CM)\n",
    "    return sX[0:k], cost[0:k]"
   ]
  },
  {
   "cell_type": "code",
   "execution_count": 17,
   "metadata": {},
   "outputs": [
    {
     "name": "stdout",
     "output_type": "stream",
     "text": [
      "4172.946183226099\n",
      "3522.8848873708557\n",
      "3388.499750091523\n",
      "3194.957839591072\n",
      "3194.957839591072\n",
      "3064.3580299637665\n",
      "3064.3580299637665\n",
      "3064.3580299637665\n",
      "3064.3580299637665\n",
      "3064.3580299637665\n",
      "3064.3580299637665\n",
      "3064.3580299637665\n",
      "2878.888620595235\n",
      "2878.888620595235\n",
      "2878.888620595235\n",
      "2784.088400467905\n",
      "2686.4373098618953\n",
      "2686.4373098618953\n",
      "2686.4373098618953\n",
      "2686.4373098618953\n",
      "2686.4373098618953\n",
      "2686.4373098618953\n",
      "2686.4373098618953\n",
      "2686.4373098618953\n",
      "2686.4373098618953\n",
      "2598.6189910993735\n",
      "2598.6189910993735\n",
      "2598.6189910993735\n",
      "2598.6189910993735\n",
      "2598.6189910993735\n",
      "2598.6189910993735\n",
      "2598.6189910993735\n",
      "2598.6189910993735\n",
      "2598.6189910993735\n",
      "2598.6189910993735\n",
      "2598.6189910993735\n",
      "2598.6189910993735\n",
      "2598.6189910993735\n",
      "2598.6189910993735\n",
      "2598.6189910993735\n",
      "2598.6189910993735\n",
      "2458.2451225640275\n",
      "2110.558928453598\n",
      "2110.558928453598\n",
      "2110.558928453598\n",
      "2110.558928453598\n",
      "2110.558928453598\n",
      "2110.558928453598\n",
      "2110.558928453598\n",
      "2110.558928453598\n"
     ]
    },
    {
     "data": {
      "text/plain": [
       "([[7, 6, 3, 4, 2, 8, 9, 5, 0, 1],\n",
       "  [7, 6, 8, 2, 4, 3, 9, 5, 0, 1],\n",
       "  [5, 9, 3, 6, 7, 1, 8, 2, 4, 0]],\n",
       " [2110.558928453598, 2142.976791538657, 2458.2451225640275])"
      ]
     },
     "execution_count": 17,
     "metadata": {},
     "output_type": "execute_result"
    }
   ],
   "source": [
    "pop = 20\n",
    "dim = 10\n",
    "bound = (10,1000)\n",
    "\n",
    "GA(pop, dim, bound, 50)"
   ]
  },
  {
   "cell_type": "code",
   "execution_count": null,
   "metadata": {},
   "outputs": [],
   "source": []
  },
  {
   "cell_type": "code",
   "execution_count": null,
   "metadata": {},
   "outputs": [],
   "source": []
  },
  {
   "cell_type": "code",
   "execution_count": null,
   "metadata": {},
   "outputs": [],
   "source": []
  },
  {
   "cell_type": "code",
   "execution_count": null,
   "metadata": {},
   "outputs": [],
   "source": []
  },
  {
   "cell_type": "code",
   "execution_count": null,
   "metadata": {},
   "outputs": [],
   "source": []
  }
 ],
 "metadata": {
  "kernelspec": {
   "display_name": "Python [default]",
   "language": "python",
   "name": "python3"
  },
  "language_info": {
   "codemirror_mode": {
    "name": "ipython",
    "version": 3
   },
   "file_extension": ".py",
   "mimetype": "text/x-python",
   "name": "python",
   "nbconvert_exporter": "python",
   "pygments_lexer": "ipython3",
   "version": "3.5.6"
  }
 },
 "nbformat": 4,
 "nbformat_minor": 2
}
