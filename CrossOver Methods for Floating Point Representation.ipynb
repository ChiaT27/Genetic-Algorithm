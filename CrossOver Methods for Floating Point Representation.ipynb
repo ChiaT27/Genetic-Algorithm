{
 "cells": [
  {
   "cell_type": "markdown",
   "metadata": {},
   "source": [
    "# Floating Point Representation in GA"
   ]
  },
  {
   "cell_type": "code",
   "execution_count": 4,
   "metadata": {},
   "outputs": [],
   "source": [
    "import random\n",
    "import numpy as np"
   ]
  },
  {
   "cell_type": "markdown",
   "metadata": {},
   "source": [
    "Floating point representation\n",
    " \n",
    "A representation of the numer 12.0000 can be in the following ways\n",
    " \n",
    " 1. chromosome = \"120000\" meaning 12.0000 \n",
    " 2. [1,2,0,0,0,0] \n",
    " 3. 12.00000"
   ]
  },
  {
   "cell_type": "markdown",
   "metadata": {},
   "source": [
    "# Converting from binary to float and float to binary in python\n",
    "We can also represent floating points as binary "
   ]
  },
  {
   "cell_type": "code",
   "execution_count": 5,
   "metadata": {},
   "outputs": [
    {
     "data": {
      "text/plain": [
       "('0100101001000000', b'@J', 12.5)"
      ]
     },
     "execution_count": 5,
     "metadata": {},
     "output_type": "execute_result"
    }
   ],
   "source": [
    "# float to binary using numpy here the minimum is 16 bit representation\n",
    "\n",
    "a = bin(np.float16(12.5).view('H'))[2:].zfill(16)\n",
    "\n",
    "# binary to float\n",
    "\n",
    "import struct\n",
    "b = struct.pack(\"H\",int(a, 2))\n",
    "c = np.frombuffer(b , dtype =np.float16)[0]\n",
    "\n",
    "a, b, c"
   ]
  },
  {
   "cell_type": "code",
   "execution_count": 6,
   "metadata": {},
   "outputs": [
    {
     "data": {
      "text/plain": [
       "('01000001101000001100110011001101', 20.100000381469727, 32)"
      ]
     },
     "execution_count": 6,
     "metadata": {},
     "output_type": "execute_result"
    }
   ],
   "source": [
    "# using struct , here the minimum is 32 bit representation\n",
    "\n",
    "import struct\n",
    "\n",
    "def float_to_bin(num):\n",
    "    return format(struct.unpack('!I', struct.pack('!f', num))[0], '032b')\n",
    "\n",
    "def bin_to_float(binary):\n",
    "    return struct.unpack('!f',struct.pack('!I', int(binary, 2)))[0]\n",
    "\n",
    "a = float_to_bin(20.1)\n",
    "b = bin_to_float(a)\n",
    "\n",
    "a, b, len(a)"
   ]
  },
  {
   "cell_type": "markdown",
   "metadata": {},
   "source": [
    "# CrossOver methods for floating point representation\n",
    "\n",
    "All the crossover methods for binary representation can be used for floating point except for multiparent. In floating point representation, each number is a decimal. "
   ]
  },
  {
   "cell_type": "markdown",
   "metadata": {},
   "source": [
    "# 1. Linear CrossOver Operator\n",
    "Given a group of chromosomes, three parents are selected and crossover is carried to produce three offsprings and the best to might be selected depending on what is desired. The crossover is as follows:\n",
    "* $(X_1 + X_2) , (1.5*X_1 - 0.5*X_2), (-0.5*X_1 + 1.5*X_2)$"
   ]
  },
  {
   "cell_type": "code",
   "execution_count": 7,
   "metadata": {},
   "outputs": [],
   "source": [
    "# linear crossover operator \n",
    "\n",
    "def lco(A,B):\n",
    "    \n",
    "    A0 = A + B\n",
    "    B0 = (1.5*A) - (0.5*B)\n",
    "    C0 = (-0.5*A) + (1.5*B)\n",
    "    \n",
    "    return A0, B0, C0\n"
   ]
  },
  {
   "cell_type": "code",
   "execution_count": 8,
   "metadata": {},
   "outputs": [
    {
     "data": {
      "text/plain": [
       "(2.5, 3.6, (6.1, 1.95, 4.15))"
      ]
     },
     "execution_count": 8,
     "metadata": {},
     "output_type": "execute_result"
    }
   ],
   "source": [
    "A = 2.5\n",
    "B = 3.6\n",
    "C = lco(A, B)\n",
    "\n",
    "A, B, C"
   ]
  },
  {
   "cell_type": "markdown",
   "metadata": {},
   "source": [
    "# 2. Directional Heuristic crossover\n",
    "\n",
    "one offspring is created from two parents using\n",
    "\n",
    "$ X _{i,j}' = U(0, 1)*(X_{2j} − X_{1j}) + X_{2j}$\n",
    "\n",
    "subject to the constraint that parent X2 cannot be worse than parent X1. i is the parent number and j is a dimension or gene position in chromosome if an array is used "
   ]
  },
  {
   "cell_type": "code",
   "execution_count": 9,
   "metadata": {},
   "outputs": [],
   "source": [
    "def dhc(A,B):\n",
    "    \n",
    "    return ( random.random()*(A-B) ) + A  # given that A is better than B "
   ]
  },
  {
   "cell_type": "code",
   "execution_count": 10,
   "metadata": {},
   "outputs": [
    {
     "data": {
      "text/plain": [
       "(2.5, 3.6, 1.5595002110246532)"
      ]
     },
     "execution_count": 10,
     "metadata": {},
     "output_type": "execute_result"
    }
   ],
   "source": [
    "C = dhc(A,B)\n",
    "\n",
    "A,B,C"
   ]
  },
  {
   "cell_type": "code",
   "execution_count": 11,
   "metadata": {},
   "outputs": [],
   "source": [
    "# if A and B are represented by a string of chromosomes\n",
    "\n",
    "def Sdhc(A, B):\n",
    "    A0 = []\n",
    "    \n",
    "    for i in range(len(A)):\n",
    "        A0.append((random.random()*(A[i]-B[i]) ) + A[i])   # given that A is better than B\n",
    "    \n",
    "    return A0"
   ]
  },
  {
   "cell_type": "code",
   "execution_count": 12,
   "metadata": {},
   "outputs": [
    {
     "data": {
      "text/plain": [
       "([-0.11135043845498516,\n",
       "  -0.033043998635012506,\n",
       "  0.04170922450071418,\n",
       "  2.576709196137059],\n",
       " [0.5, 0.4, 0.2, 2.3],\n",
       " [1.5, 2.4, 0.8, 0.3])"
      ]
     },
     "execution_count": 12,
     "metadata": {},
     "output_type": "execute_result"
    }
   ],
   "source": [
    "SA = [0.5, 0.4, 0.2, 2.3]\n",
    "SB = [1.5, 2.4, 0.8, 0.3]\n",
    "\n",
    "SA0 = Sdhc(SA,SB)\n",
    "\n",
    "SA0, SA, SB"
   ]
  },
  {
   "cell_type": "markdown",
   "metadata": {},
   "source": [
    "# 3. Arithmetic CrossOver\n",
    "It's a multiparent recombination strategy that takes a weighted average over two or more parents. One offspring is generated using\n",
    "* $ X_{i,i}' = \\sum_{l=1}^{n}\\gamma_l X_{l,j} $ where n is the number of parents and\n",
    "* $ \\sum_{l=1}^{n}\\gamma_l = 0 $"
   ]
  },
  {
   "cell_type": "code",
   "execution_count": 14,
   "metadata": {},
   "outputs": [
    {
     "data": {
      "text/plain": [
       "([0.7077179603499998, 0.9884185234708575, 0.7053846686734327],\n",
       " [0.2946957013536788, 0.4115801863515785, 0.2937241122947427],\n",
       " 1.0,\n",
       " 2.40152115249429)"
      ]
     },
     "execution_count": 14,
     "metadata": {},
     "output_type": "execute_result"
    }
   ],
   "source": [
    "gammas = [random.random() for i in range(3)]\n",
    "gamma = [i/sum(gammas) for i in gammas]\n",
    "\n",
    "gammas, gamma, sum(gamma), sum(gammas)"
   ]
  },
  {
   "cell_type": "code",
   "execution_count": 17,
   "metadata": {},
   "outputs": [],
   "source": [
    "# the gammas can be either uniform or random \n",
    "\n",
    "def ac(parents):\n",
    "    \"\"\" parents is the number of parents\"\"\"\n",
    "    n = len(parents)\n",
    "    gammas = [random.random() for i in range(n)]\n",
    "    gammas = [i/sum(gammas) for i in gammas]\n",
    "    A0 = 0\n",
    "    \n",
    "    for i in range(n):\n",
    "        A0 += (gammas[i]*parents[i])\n",
    "    \n",
    "    return A0\n",
    "    "
   ]
  },
  {
   "cell_type": "code",
   "execution_count": 18,
   "metadata": {},
   "outputs": [
    {
     "data": {
      "text/plain": [
       "(4.295384169960936, 2.4, 5.3, 6.2, 1.7, [2.4, 5.3, 6.2, 1.7])"
      ]
     },
     "execution_count": 18,
     "metadata": {},
     "output_type": "execute_result"
    }
   ],
   "source": [
    "A , B , C, D = (2.4, 5.3, 6.2, 1.7)\n",
    "E = [A , B , C, D]\n",
    "\n",
    "A0 = ac(E)\n",
    "\n",
    "A0, A, B, C, D, E"
   ]
  },
  {
   "cell_type": "markdown",
   "metadata": {},
   "source": [
    "# 4. Blend CrossOver (BLX-$\\alpha$)\n",
    "This crossover method is more exploratory\n",
    "\n",
    "* $ X_{i,i}' = (1- \\gamma_j)*X_{1,j} + \\gamma_j*X_{2,j} $\n",
    "* where $\\gamma_j = (1 - 2\\alpha) U(0,1) - \\alpha $ \n",
    "\n",
    "The value of $\\alpha = 0.5 $ works and is commonly used. BLX-$\\alpha$ assumes that X1 < X2\n",
    "\n",
    "* The uniform operator randomly picks a number in the range\n",
    "$[X_{1,j} − α(X_{2,j} − X_{1,j}), X_{2,j} + α(X_{2,j} − X_{1,j})]$"
   ]
  },
  {
   "cell_type": "code",
   "execution_count": 49,
   "metadata": {},
   "outputs": [],
   "source": [
    "def blx(A, B, alpha = 0.4):\n",
    "    # ensure A is less than B\n",
    "    \n",
    "    U = (A - (alpha*B - A) , B + (alpha*B - A) )\n",
    "    gamma = (1 - (2*alpha) )*( random.uniform(U[0], U[1]) ) - alpha\n",
    "    #gamma1 = (1 - (2*alpha) )*( random.uniform(0, 1) ) - alpha\n",
    "    \n",
    "    A0 = ((1 - gamma)*A ) + ( gamma*B )\n",
    "    #A1 = ((1 - gamma1)*A ) + ( gamma1*B )\n",
    "    \n",
    "    return A0 #, A1 "
   ]
  },
  {
   "cell_type": "code",
   "execution_count": 51,
   "metadata": {},
   "outputs": [
    {
     "data": {
      "text/plain": [
       "(2.959737935364127, 2.4, 5.3, (2.15, 5.55), 4.827423151721749)"
      ]
     },
     "execution_count": 51,
     "metadata": {},
     "output_type": "execute_result"
    }
   ],
   "source": [
    "U = (A - (0.5*B - A) , B + (0.5*B - A) )\n",
    "C = blx(A, B)\n",
    "\n",
    "C, A, B, U, random.uniform(U[0], U[1])"
   ]
  },
  {
   "cell_type": "markdown",
   "metadata": {},
   "source": [
    "# 5. Geometric CrossOver\n",
    "Produces one offspring from 2 parents \n",
    "* $ X_{i,j}' = (X_{1,j}*X_{2,j})^{0.5} $"
   ]
  },
  {
   "cell_type": "code",
   "execution_count": 52,
   "metadata": {},
   "outputs": [],
   "source": [
    "def gc(A,B):\n",
    "    \n",
    "    return (A*B)**0.5"
   ]
  },
  {
   "cell_type": "code",
   "execution_count": 53,
   "metadata": {},
   "outputs": [
    {
     "data": {
      "text/plain": [
       "(3.5665109000254014, 2.4, 5.3)"
      ]
     },
     "execution_count": 53,
     "metadata": {},
     "output_type": "execute_result"
    }
   ],
   "source": [
    "C = gc(A,B)\n",
    "\n",
    "C, A, B"
   ]
  },
  {
   "cell_type": "markdown",
   "metadata": {},
   "source": [
    "# 6. Geometric Multiparent CrossOver\n",
    "Given n parents the generalization of the geometric crossover is as follows\n",
    "* $X_{i,j}' = X_{1,j}^\\alpha_1*X_{2,j}^\\alpha_2*...*X_{n,j}^\\alpha_n$ where n is the number of parents and\n",
    "* $ \\sum_{l=1}^{n}\\alpha_l = 1 $ "
   ]
  },
  {
   "cell_type": "code",
   "execution_count": 70,
   "metadata": {},
   "outputs": [],
   "source": [
    "def gmc(parents):\n",
    "    \"\"\"parents is a list of list with parents \"\"\"\n",
    "    n = len(parents)\n",
    "    alphas = [random.random() for i in range(n)]\n",
    "    alphas = [i/sum(alphas) for i in alphas]\n",
    "    #print(alphas)\n",
    "    A0 = parents[0]*alphas[0]\n",
    "    \n",
    "    for i in range(1,n):\n",
    "        #print (A0)\n",
    "        A0 *= parents[i]*alphas[i]\n",
    "        \n",
    "    return A0"
   ]
  },
  {
   "cell_type": "code",
   "execution_count": 71,
   "metadata": {},
   "outputs": [
    {
     "data": {
      "text/plain": [
       "(0.36304611468243886, 2.4, 5.3, 6.2, 1.7, [2.4, 5.3, 6.2, 1.7])"
      ]
     },
     "execution_count": 71,
     "metadata": {},
     "output_type": "execute_result"
    }
   ],
   "source": [
    "A , B , C, D = (2.4, 5.3, 6.2, 1.7)\n",
    "E = [A , B , C, D]\n",
    "\n",
    "A0 = gmc(E)\n",
    "\n",
    "A0, A, B, C, D, E"
   ]
  },
  {
   "cell_type": "markdown",
   "metadata": {},
   "source": [
    "# 7. Simulated Binary Crossover (SBX)\n",
    "simulated binary crossover (SBX) simulates the behavior of the one-point crossover operator for binary representations. Two parents, x1  and x2 are used to produce two offspring, where for j = 1, . . . , nx  j is dimension\n",
    "\n",
    "* $x_{1j}' = 0.5[(1 + γ_j)x_{1j} + (1 − γ_j)x_{2j}]$ \n",
    "* $x_{2j}' = 0.5[(1 − γ_j)x_{1j} + (1+γ_j)x_{2j}]$\n",
    "* $γ_j = (2r_j)^{\\frac{1}{η+1}} if r_j <= 0.5 $ Else $γ_j = (\\frac{1}{2(1-r_j)})^{\\frac{1}{η+1}} if r_j >= 0.5 $\n",
    "* where $r_j = U (0,1) $ and η preferably 1.\n",
    "\n",
    "For large values of η there is a higher probability thatoffspring will be created near the parents. For small η values, offspring will be more distant from the parents."
   ]
  },
  {
   "cell_type": "code",
   "execution_count": 104,
   "metadata": {},
   "outputs": [],
   "source": [
    "def sbc(A,B):\n",
    "    eta = 1\n",
    "    r  = random.random()\n",
    "    \n",
    "    if r <= 0.5:\n",
    "        gamma = (2*r)**(1/(eta+1))\n",
    "        #print(\"HErE.....1:  \", r)\n",
    "    else:\n",
    "        gamma = ( 1/(2*(1-r)) )**(1/(eta+1))\n",
    "        #print(\"HErE.....2:  \", r)\n",
    "        \n",
    "    A0 = 0.5*( (1 + gamma)*A + (1 - gamma)*B )\n",
    "    B0 = 0.5*( (1 - gamma)*A + (1 + gamma)*B )\n",
    "    \n",
    "    return A0, B0"
   ]
  },
  {
   "cell_type": "code",
   "execution_count": 105,
   "metadata": {},
   "outputs": [
    {
     "data": {
      "text/plain": [
       "(2.4298508894190243, 5.2701491105809755, 2.4, 5.3)"
      ]
     },
     "execution_count": 105,
     "metadata": {},
     "output_type": "execute_result"
    }
   ],
   "source": [
    "C, D = sbc(A, B)\n",
    "\n",
    "C, D, A, B"
   ]
  },
  {
   "cell_type": "markdown",
   "metadata": {},
   "source": [
    "# The next set of Crossover methodologies are Exclusively multiparent crossover\n",
    "The main objective of these multiparent operators is to intensify the explorative capabilities compared to two-parent operators. By aggregating information from multiple parents, more disruption is achieved with the resemblance between offspring and parents on average smaller compared to two-parent operators.\n",
    "\n",
    "# 8. Unimodal Distribution Operator (UNDX)\n",
    "Two offsprings are generated from two parents. It can also be generalized for more than three parents up n-1. for the parents selected, their centre of mass (mean) is computed as follows\n",
    "\n",
    "* $Xc = \\sum_{l=1}^{n-1}X_{l,j} $ n-1 is the number of parents\n",
    "\n",
    "from the mean, n-1 directional vectors are computed from all the parents using\n",
    "\n",
    "* $ d_l = X_l - Xc$\n",
    "\n",
    "Using the direction vectors, the direction cosines are computed as\n",
    "\n",
    "* $ e_l = \\frac{d_l}{|d_l|}$ where $|d_l|$ is the length of vector $d_l$\n",
    "\n",
    "a random parent x is selected from the set of parents and an ortogonal vector \n",
    "\n",
    "* $x - Xc$  orthogonal to $e_l$ and\n",
    "* $\\delta = |x - Xc|$. the distance between x and Xc\n",
    "\n",
    "offsprings are generated Using \n",
    "\n",
    "* $ X_i' = Xc + \\sum_{l=1}^{n-1}N(0, \\sigma_1^2)|d_l|e_l + \\sum_{n}^{n_s}N(0, \\sigma_2^2)\\delta e_l$\n",
    "\n",
    "\n",
    "* where $\\sigma_1 = \\frac{1}{\\sqrt{n-2}}$ and $\\sigma_2 = \\frac{0.35}{\\sqrt{n_s-n-2}} $ \n",
    "\n"
   ]
  },
  {
   "cell_type": "code",
   "execution_count": null,
   "metadata": {},
   "outputs": [],
   "source": []
  },
  {
   "cell_type": "markdown",
   "metadata": {},
   "source": [
    "# 9. Simplex CrossOver Operator (SPX)\n",
    "selects n > 2 parents, and determines the best and worst parent, say x1 and x2 respectively. The center of mass, Xc is computed over the selected parents, but with x2 excluded. One offspring is generated using\n",
    "\n",
    "$ x' = Xc + (x1 − x2) $"
   ]
  },
  {
   "cell_type": "code",
   "execution_count": null,
   "metadata": {},
   "outputs": [],
   "source": []
  },
  {
   "cell_type": "markdown",
   "metadata": {},
   "source": [
    "# 10. Expanded Simplex CrossOver Operator\n",
    "selecting n = nx + 1 parents independent from one another for an nx-dimensional search space. These n parents form a simplex. The simplex is expanded in each of the n directions, and offspring sampled from the expanded simplex. the expanded simplex is defined by the points\n",
    "* $ (1 + γ)(x_l − Xc)$ l = 1...n, and γ >= 0\n",
    "\n",
    "The offspring is choosen by random sampling "
   ]
  },
  {
   "cell_type": "code",
   "execution_count": null,
   "metadata": {},
   "outputs": [],
   "source": []
  },
  {
   "cell_type": "markdown",
   "metadata": {},
   "source": [
    "# 11. Parent-Centric CrossOver (PCX)\n",
    "Its a variation of the UNDX operator. Instead of generating offspring around the center of mass of the selected parents, offspring are generated around selected parents. PCX selects n parents and computes their center of mass, Xc. For each offspring to be generated, one parent is selected uniformly from the n parents. A direction vector is\n",
    "calculated for each offspring as\n",
    "\n",
    "* $d_i = x_i − Xc$ where $x_i$ is a randomly generated parent \n",
    "\n",
    "From the remaining n-1 parents, perpendicular distances to $d_l$ is $\\delta_l$ are calculated and the average over this distances calculated.\n",
    "\n",
    "$\\delta = |x−Xc| $\n",
    "\n",
    "$ \\delta' = \\frac{sum_{l=1, l!=i}^{n-1}\\delta_l}{n-1} $\n",
    "\n",
    "offsprings are generated as follows\n",
    "\n",
    "$ X_i' = X_i + N(0, \\sigma_1^2)|d_i| + \\sum_{l=1, l!=i}^{n}N(0, \\sigma_2^2)\\delta' e_l$\n",
    "\n",
    "where $X_i$ is the randomly selected parent of offspring $X_i'$, and $e_l$ are the n −1 orthonormal bases that span the subspace perpendicular to $di$"
   ]
  },
  {
   "cell_type": "code",
   "execution_count": null,
   "metadata": {},
   "outputs": [],
   "source": []
  },
  {
   "cell_type": "markdown",
   "metadata": {},
   "source": [
    "# Gene Scanning Techniques\n",
    "developed a number of gene scanning techniques as multiparent generalizations of n-point crossover\n",
    "The algorithm contains two main procedures:\n",
    "\n",
    "\n",
    "• A scanning strategy, which assigns to each selected parent a probability that the offspring will inherit the next component from that parent. The component under consideration is indicated by a marker.\n",
    "\n",
    "\n",
    "• A marker update strategy, which updates the markers of parents to point to the next component of each parent.\n",
    "\n",
    "# 12. Uniform Scanning "
   ]
  },
  {
   "cell_type": "code",
   "execution_count": null,
   "metadata": {},
   "outputs": [],
   "source": []
  },
  {
   "cell_type": "markdown",
   "metadata": {},
   "source": [
    "# 13. Occurence-Based Scanning"
   ]
  },
  {
   "cell_type": "code",
   "execution_count": null,
   "metadata": {},
   "outputs": [],
   "source": []
  },
  {
   "cell_type": "markdown",
   "metadata": {},
   "source": [
    "# 14. Fitness-Based Scanning "
   ]
  },
  {
   "cell_type": "code",
   "execution_count": null,
   "metadata": {},
   "outputs": [],
   "source": []
  },
  {
   "cell_type": "markdown",
   "metadata": {},
   "source": [
    "# 15. Diagonal CrossOver Operator "
   ]
  },
  {
   "cell_type": "code",
   "execution_count": null,
   "metadata": {},
   "outputs": [],
   "source": []
  }
 ],
 "metadata": {
  "kernelspec": {
   "display_name": "Python [default]",
   "language": "python",
   "name": "python3"
  },
  "language_info": {
   "codemirror_mode": {
    "name": "ipython",
    "version": 3
   },
   "file_extension": ".py",
   "mimetype": "text/x-python",
   "name": "python",
   "nbconvert_exporter": "python",
   "pygments_lexer": "ipython3",
   "version": "3.5.6"
  }
 },
 "nbformat": 4,
 "nbformat_minor": 2
}
